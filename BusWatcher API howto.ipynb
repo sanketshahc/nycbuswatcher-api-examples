{
 "cells": [
  {
   "cell_type": "markdown",
   "id": "66158b70-8a01-4de0-b715-1a32f0c33a55",
   "metadata": {},
   "source": [
    "# NYCbuswatcher API Demo (against api.buswatcher.org)"
   ]
  },
  {
   "cell_type": "code",
   "execution_count": 25,
   "id": "05a6fc58-da07-4c58-9f82-17ceac93109e",
   "metadata": {},
   "outputs": [],
   "source": [
    "# !pip install requests pandas geopandas ipyleaflet ipywidgets matplotlib python-dateutil"
   ]
  },
  {
   "cell_type": "code",
   "execution_count": 26,
   "id": "e821703d-cab3-420f-829d-e5e817915cb9",
   "metadata": {},
   "outputs": [],
   "source": [
    "import requests\n",
    "import pandas as pd\n",
    "import geopandas as gpd\n",
    "\n",
    "%matplotlib inline"
   ]
  },
  {
   "cell_type": "code",
   "execution_count": 27,
   "id": "6ff648fd-7fa4-47c4-96d0-66c4a2d9901e",
   "metadata": {},
   "outputs": [],
   "source": [
    "# prevent cell wrapping in dataframe tables"
   ]
  },
  {
   "cell_type": "code",
   "execution_count": 28,
   "id": "5fcb634e-4b9e-4031-8327-e47ea51a2bb3",
   "metadata": {},
   "outputs": [
    {
     "data": {
      "text/html": [
       "<style>\n",
       ".dataframe td {\n",
       "    white-space: nowrap;\n",
       "}\n",
       "</style>\n"
      ],
      "text/plain": [
       "<IPython.core.display.HTML object>"
      ]
     },
     "metadata": {},
     "output_type": "display_data"
    }
   ],
   "source": [
    "%%html\n",
    "<style>\n",
    ".dataframe td {\n",
    "    white-space: nowrap;\n",
    "}\n",
    "</style>"
   ]
  },
  {
   "cell_type": "code",
   "execution_count": 29,
   "id": "cf3be65f-e733-46fa-be16-a1169520a0f8",
   "metadata": {},
   "outputs": [],
   "source": [
    "#-------------- timer decorator -------------------------------------------------------------\n",
    "import functools\n",
    "from time import perf_counter, strftime\n",
    "\n",
    "def timer(func):\n",
    "    @functools.wraps(func)\n",
    "    def wrapper_timer(*args, **kwargs):\n",
    "        tic = perf_counter()\n",
    "        value = func(*args, **kwargs)\n",
    "        toc = perf_counter()\n",
    "        elapsed_time = toc - tic\n",
    "        logging.warning(f\"{func.__name__!r} finished at {strftime('%l:%M%p %Z on %b %d, %Y') } in {elapsed_time:0.4f} seconds\")\n",
    "        return value\n",
    "    return wrapper_timer"
   ]
  },
  {
   "cell_type": "markdown",
   "id": "9043a4cc-5ec8-4a25-aee9-56879cc9d8b9",
   "metadata": {},
   "source": [
    "## How to use the API:\n",
    "\n",
    "A Shipment is a JSON file showing all observations of a single route for a single hour. \n",
    "There are several endpoints that let you:\n",
    "- get a list of available Shipments to retrive\n",
    "- retrieve the Shipments as JSON or GeoJOSN."
   ]
  },
  {
   "cell_type": "code",
   "execution_count": 30,
   "id": "c99a4200-d4cd-4c7a-ba3e-b91516787952",
   "metadata": {},
   "outputs": [],
   "source": [
    "api_url = 'http://api.buswatcher.org/api/v2'"
   ]
  },
  {
   "cell_type": "markdown",
   "id": "3c3fced7-62cc-4b70-8208-3e03eb0def21",
   "metadata": {},
   "source": [
    "## Get a list of all the Shipments in history for a specific route"
   ]
  },
  {
   "cell_type": "markdown",
   "id": "806484bf-0b04-48e4-962e-40d6cb156869",
   "metadata": {},
   "source": [
    "#### ENDPOINT: List All Shipments In History For Route: `/api/v2/nyc/{route}` "
   ]
  },
  {
   "cell_type": "code",
   "execution_count": 31,
   "id": "84b94488-34a4-46e3-a01b-4f1ae511881d",
   "metadata": {},
   "outputs": [],
   "source": [
    "route='M15'"
   ]
  },
  {
   "cell_type": "code",
   "execution_count": 32,
   "id": "a35cf35c-ee2b-48d5-aafd-f82f734d0440",
   "metadata": {},
   "outputs": [
    {
     "data": {
      "text/plain": [
       "'http://api.buswatcher.org/api/v2/nyc/M15'"
      ]
     },
     "execution_count": 32,
     "metadata": {},
     "output_type": "execute_result"
    }
   ],
   "source": [
    "shipments_for_route_url = f'{api_url}/nyc/{route}'\n",
    "shipments_for_route_url"
   ]
  },
  {
   "cell_type": "code",
   "execution_count": 33,
   "id": "a094aa41-6bc8-4187-a632-d0eb39b4a836",
   "metadata": {},
   "outputs": [],
   "source": [
    "# fetch the index of shipments for this route\n",
    "shipment_list = requests.get(shipments_for_route_url).json()"
   ]
  },
  {
   "cell_type": "code",
   "execution_count": 34,
   "id": "e9de6275-6d5c-4942-8d4e-39ffe3e7bbc3",
   "metadata": {},
   "outputs": [
    {
     "data": {
      "text/plain": [
       "['route', 'shipments']"
      ]
     },
     "execution_count": 34,
     "metadata": {},
     "output_type": "execute_result"
    }
   ],
   "source": [
    "# inspect the response\n",
    "list(shipment_list.keys())"
   ]
  },
  {
   "cell_type": "code",
   "execution_count": 35,
   "id": "82d1a36e-5f2d-4e95-be73-524c88b428da",
   "metadata": {},
   "outputs": [
    {
     "data": {
      "text/plain": [
       "'M15'"
      ]
     },
     "execution_count": 35,
     "metadata": {},
     "output_type": "execute_result"
    }
   ],
   "source": [
    "# verify route\n",
    "shipment_list['route']"
   ]
  },
  {
   "cell_type": "code",
   "execution_count": 36,
   "id": "0359c852-8ca9-4dcf-96e5-82d103a78260",
   "metadata": {},
   "outputs": [
    {
     "data": {
      "text/plain": [
       "1053"
      ]
     },
     "execution_count": 36,
     "metadata": {},
     "output_type": "execute_result"
    }
   ],
   "source": [
    "# how many shipment pointers in all\n",
    "len(shipment_list['shipments'])"
   ]
  },
  {
   "cell_type": "code",
   "execution_count": 37,
   "id": "0c8d07e4-1d51-41f4-903c-577c5529c30c",
   "metadata": {},
   "outputs": [
    {
     "data": {
      "text/plain": [
       "{'route': 'M15',\n",
       " 'year': 2021,\n",
       " 'month': 6,\n",
       " 'day': 30,\n",
       " 'hour': 23,\n",
       " 'url': 'http://api.buswatcher.org:80/api/v2/nyc/2021/6/30/23/M15/buses'}"
      ]
     },
     "execution_count": 37,
     "metadata": {},
     "output_type": "execute_result"
    }
   ],
   "source": [
    "# look at first record (shipments is a list of dicts, one for each shipment in the Data Store)\n",
    "shipment_list['shipments'][0]"
   ]
  },
  {
   "cell_type": "code",
   "execution_count": 38,
   "id": "d7ebee6e-f30f-4e75-b559-d822d1514635",
   "metadata": {},
   "outputs": [
    {
     "data": {
      "text/plain": [
       "{'route': 'M15',\n",
       " 'year': 2021,\n",
       " 'month': 8,\n",
       " 'day': 25,\n",
       " 'hour': 22,\n",
       " 'url': 'http://api.buswatcher.org:80/api/v2/nyc/2021/8/25/22/M15/buses'}"
      ]
     },
     "execution_count": 38,
     "metadata": {},
     "output_type": "execute_result"
    }
   ],
   "source": [
    "# and the last one\n",
    "shipment_list['shipments'][-1]"
   ]
  },
  {
   "cell_type": "markdown",
   "id": "51b6e25c-0ffb-45ac-a1d7-a2de1b704d51",
   "metadata": {},
   "source": [
    "#### grab one shipment... "
   ]
  },
  {
   "cell_type": "code",
   "execution_count": 39,
   "id": "a7a81ab2-e0bc-4d4e-b45c-329628541722",
   "metadata": {},
   "outputs": [],
   "source": [
    "url = shipment_list['shipments'][0]['url']\n",
    "shipment = requests.get(url).json()"
   ]
  },
  {
   "cell_type": "markdown",
   "id": "1038c9f4-2b2e-4bfe-972b-e5d60ae6bac6",
   "metadata": {},
   "source": [
    "#### look inside it... "
   ]
  },
  {
   "cell_type": "code",
   "execution_count": 40,
   "id": "195dcf31-327a-4270-b4bf-72db8dc92598",
   "metadata": {},
   "outputs": [
    {
     "data": {
      "text/plain": [
       "510"
      ]
     },
     "execution_count": 40,
     "metadata": {},
     "output_type": "execute_result"
    }
   ],
   "source": [
    "# how many buses?\n",
    "len(shipment['buses'])"
   ]
  },
  {
   "cell_type": "code",
   "execution_count": 41,
   "id": "dedaacbd-e8d4-4d4e-97cf-9c5bb3ebfba6",
   "metadata": {},
   "outputs": [
    {
     "data": {
      "text/plain": [
       "{'route': 'M15',\n",
       " 'timestamp': '2021-06-30 23:14:44-04:00',\n",
       " 'route_long': 'MTA NYCT_M15',\n",
       " 'direction': '0',\n",
       " 'service_date': '2021-06-30',\n",
       " 'trip_id': 'MTA NYCT_OH_C1-Weekday-134000_M15_243',\n",
       " 'gtfs_shape_id': 'MTA_M150004',\n",
       " 'route_short': 'M15',\n",
       " 'agency': 'MTA NYCT',\n",
       " 'origin_id': 'MTA_803019',\n",
       " 'destination_name': 'EAST HARLEM 125 ST via 1 AV',\n",
       " 'next_stop_id': 'MTA_401721',\n",
       " 'next_stop_eta': '2021-06-30T23:15:12.240-04:00',\n",
       " 'next_stop_d_along_route': 11470.57,\n",
       " 'next_stop_d': 56.85,\n",
       " 'lat': 40.784978,\n",
       " 'lon': -73.943452,\n",
       " 'bearing': 54.05072,\n",
       " 'progress_rate': 'normalProgress',\n",
       " 'vehicle_id': 'MTA NYCT_5881',\n",
       " 'gtfs_block_id': 'MTA NYCT_OH_C1-Weekday_C_OH_13560_M15-206'}"
      ]
     },
     "execution_count": 41,
     "metadata": {},
     "output_type": "execute_result"
    }
   ],
   "source": [
    "# look at one record\n",
    "shipment['buses'][0]"
   ]
  },
  {
   "cell_type": "code",
   "execution_count": 42,
   "id": "c6e339b3-b6e8-4318-a060-3a9617acda7f",
   "metadata": {},
   "outputs": [],
   "source": [
    "# we can also get the shipment as geojson, jsut add /geojson to the end of the endpoint\n",
    "\n",
    "url = shipment_list['shipments'][0]['url'] + '/geojson'\n",
    "gj_shipment = requests.get(url).json()"
   ]
  },
  {
   "cell_type": "code",
   "execution_count": 43,
   "id": "1d98ef17-0c71-4f86-b557-5eb03661ad55",
   "metadata": {},
   "outputs": [
    {
     "data": {
      "text/plain": [
       "510"
      ]
     },
     "execution_count": 43,
     "metadata": {},
     "output_type": "execute_result"
    }
   ],
   "source": [
    "# verify same # of buses\n",
    "len(gj_shipment['features'])"
   ]
  },
  {
   "cell_type": "code",
   "execution_count": 44,
   "id": "a2cb4547-0357-40db-a745-8cea100b4df9",
   "metadata": {},
   "outputs": [
    {
     "data": {
      "text/plain": [
       "{'type': 'Feature',\n",
       " 'properties': {'route': 'M15',\n",
       "  'timestamp': '2021-06-30 23:14:44-04:00',\n",
       "  'route_long': 'MTA NYCT_M15',\n",
       "  'direction': '0',\n",
       "  'service_date': '2021-06-30',\n",
       "  'trip_id': 'MTA NYCT_OH_C1-Weekday-134000_M15_243',\n",
       "  'gtfs_shape_id': 'MTA_M150004',\n",
       "  'route_short': 'M15',\n",
       "  'agency': 'MTA NYCT',\n",
       "  'origin_id': 'MTA_803019',\n",
       "  'destination_name': 'EAST HARLEM 125 ST via 1 AV',\n",
       "  'next_stop_id': 'MTA_401721',\n",
       "  'next_stop_eta': '2021-06-30T23:15:12.240-04:00',\n",
       "  'next_stop_d_along_route': 11470.57,\n",
       "  'next_stop_d': 56.85,\n",
       "  'lat': 40.784978,\n",
       "  'lon': -73.943452,\n",
       "  'bearing': 54.05072,\n",
       "  'progress_rate': 'normalProgress',\n",
       "  'vehicle_id': 'MTA NYCT_5881',\n",
       "  'gtfs_block_id': 'MTA NYCT_OH_C1-Weekday_C_OH_13560_M15-206'},\n",
       " 'geometry': {'type': 'Point', 'coordinates': [-73.943452, 40.784978]}}"
      ]
     },
     "execution_count": 44,
     "metadata": {},
     "output_type": "execute_result"
    }
   ],
   "source": [
    "# and check out the geojson (hint: you can paste this into geojson.io to make maps instantly)\n",
    "gj_shipment['features'][0]"
   ]
  },
  {
   "cell_type": "markdown",
   "id": "8a007847-824d-43a8-8cf6-0911ae484f67",
   "metadata": {},
   "source": [
    "#### ...and map it"
   ]
  },
  {
   "cell_type": "code",
   "execution_count": 67,
   "id": "4704b5f1-2367-4e76-96f8-35850a7a7c14",
   "metadata": {},
   "outputs": [
    {
     "data": {
      "application/vnd.jupyter.widget-view+json": {
       "model_id": "0d482ba13913414c85e10a9e9d633f32",
       "version_major": 2,
       "version_minor": 0
      },
      "text/plain": [
       "Map(center=[40.7128, -74.006], controls=(ZoomControl(options=['position', 'zoom_in_text', 'zoom_in_title', 'zo…"
      ]
     },
     "metadata": {},
     "output_type": "display_data"
    }
   ],
   "source": [
    "from ipywidgets import Layout\n",
    "from ipyleaflet import (\n",
    "    Map, basemaps, basemap_to_tiles,\n",
    "    Circle, Marker, Rectangle, LayerGroup\n",
    ")\n",
    "\n",
    "# init the data layer\n",
    "buses_gdf = gpd.GeoDataFrame.from_features(gj_shipment['features'])\n",
    "\n",
    "# init the map\n",
    "defaultLayout=Layout(width='960px', height='540px')\n",
    "center = (40.7128, -74.0060) #reverse?\n",
    "zoom = 12\n",
    "\n",
    "\n",
    "toner = basemap_to_tiles(basemaps.Stamen.Toner)\n",
    "m = Map(layers=(toner, ), center=center, zoom=zoom, layout=defaultLayout)\n",
    "\n",
    "# Create layer group\n",
    "layer_group = LayerGroup()\n",
    "\n",
    "\n",
    "for index, row in buses_gdf.iterrows():\n",
    "    marker = Marker(location=(row.lat, row.lon), draggable=False)\n",
    "    layer_group.add_layer(marker);\n",
    "\n",
    "\n",
    "m.add_layer(layer_group)\n",
    "\n",
    "m"
   ]
  },
  {
   "cell_type": "markdown",
   "id": "17fad97f-27a5-4d30-a095-34596ec698bf",
   "metadata": {},
   "source": [
    "## build a route history \n",
    "\n",
    "#### (e.g. all observations ever made for a single route)\n",
    "#### by iterating over list of shipments and load them all into a dataframe (takes a few minutes)"
   ]
  },
  {
   "cell_type": "code",
   "execution_count": null,
   "id": "0fe65f7e-bc0b-4a2a-9331-3968251ed05e",
   "metadata": {},
   "outputs": [],
   "source": [
    "def get_route_history(route):\n",
    "    \n",
    "    # get the list of shipments for a route\n",
    "    shipments_for_route_url = f'{api_url}/nyc/{route}'\n",
    "    shipment_list = requests.get(shipments_for_route_url).json()\n",
    "    \n",
    "    # init list to hold results of the individual fetches\n",
    "    rows=[]\n",
    "\n",
    "    # iterate over the list of shipments and get each one\n",
    "    for s in shipment_list['shipments']:\n",
    "        shipment = requests.get(s['url']).json()\n",
    "        for bus_dict in shipment['buses']:\n",
    "            rows.append(bus_dict)\n",
    "        \n",
    "    df = pd.DataFrame.from_dict(rows, orient='columns')\n",
    "    df['passenger_count'] = df['passenger_count'].fillna(0)\n",
    "    print(f'loaded {len(rows)} buses from {len(shipment_list[\"shipments\"])} shipments for route {route} into DataFrame: \"df\"')\n",
    "    \n",
    "    return df\n",
    "\n",
    "df = get_route_history(route)\n",
    "df"
   ]
  },
  {
   "cell_type": "code",
   "execution_count": null,
   "id": "5485133e-faec-413c-9aac-797ef4f4ad18",
   "metadata": {},
   "outputs": [],
   "source": []
  }
 ],
 "metadata": {
  "kernelspec": {
   "display_name": "Python [conda env:buswatcher_api]",
   "language": "python",
   "name": "conda-env-buswatcher_api-py"
  },
  "language_info": {
   "codemirror_mode": {
    "name": "ipython",
    "version": 3
   },
   "file_extension": ".py",
   "mimetype": "text/x-python",
   "name": "python",
   "nbconvert_exporter": "python",
   "pygments_lexer": "ipython3",
   "version": "3.9.6"
  }
 },
 "nbformat": 4,
 "nbformat_minor": 5
}
