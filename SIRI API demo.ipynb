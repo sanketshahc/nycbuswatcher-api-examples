{
 "cells": [
  {
   "cell_type": "markdown",
   "id": "f74028e2-6e45-4ef4-8a70-81c8db1bb0ff",
   "metadata": {},
   "source": [
    "# MTA BusTime SIRI API demo"
   ]
  },
  {
   "cell_type": "markdown",
   "id": "60c8dbef-0375-4d52-891a-0bde7b519654",
   "metadata": {},
   "source": [
    "## setup"
   ]
  },
  {
   "cell_type": "code",
   "execution_count": 1,
   "id": "42e43308-1725-4990-bfd3-539fa88c041a",
   "metadata": {},
   "outputs": [
    {
     "name": "stdout",
     "output_type": "stream",
     "text": [
      "Requirement already satisfied: requests in /opt/bin/miniconda3/envs/tutorials/lib/python3.8/site-packages (2.26.0)\n",
      "Requirement already satisfied: trio in /opt/bin/miniconda3/envs/tutorials/lib/python3.8/site-packages (0.19.0)\n",
      "Requirement already satisfied: asks in /opt/bin/miniconda3/envs/tutorials/lib/python3.8/site-packages (2.4.12)\n",
      "Requirement already satisfied: urllib3<1.27,>=1.21.1 in /opt/bin/miniconda3/envs/tutorials/lib/python3.8/site-packages (from requests) (1.26.6)\n",
      "Requirement already satisfied: idna<4,>=2.5 in /opt/bin/miniconda3/envs/tutorials/lib/python3.8/site-packages (from requests) (3.2)\n",
      "Requirement already satisfied: certifi>=2017.4.17 in /opt/bin/miniconda3/envs/tutorials/lib/python3.8/site-packages (from requests) (2021.5.30)\n",
      "Requirement already satisfied: charset-normalizer~=2.0.0 in /opt/bin/miniconda3/envs/tutorials/lib/python3.8/site-packages (from requests) (2.0.5)\n",
      "Requirement already satisfied: sortedcontainers in /opt/bin/miniconda3/envs/tutorials/lib/python3.8/site-packages (from trio) (2.4.0)\n",
      "Requirement already satisfied: attrs>=19.2.0 in /opt/bin/miniconda3/envs/tutorials/lib/python3.8/site-packages (from trio) (21.2.0)\n",
      "Requirement already satisfied: async-generator>=1.9 in /opt/bin/miniconda3/envs/tutorials/lib/python3.8/site-packages (from trio) (1.10)\n",
      "Requirement already satisfied: outcome in /opt/bin/miniconda3/envs/tutorials/lib/python3.8/site-packages (from trio) (1.1.0)\n",
      "Requirement already satisfied: sniffio in /opt/bin/miniconda3/envs/tutorials/lib/python3.8/site-packages (from trio) (1.2.0)\n",
      "Requirement already satisfied: h11 in /opt/bin/miniconda3/envs/tutorials/lib/python3.8/site-packages (from asks) (0.12.0)\n",
      "Requirement already satisfied: anyio~=2.0 in /opt/bin/miniconda3/envs/tutorials/lib/python3.8/site-packages (from asks) (2.2.0)\n"
     ]
    }
   ],
   "source": [
    "!pip install requests trio asks"
   ]
  },
  {
   "cell_type": "code",
   "execution_count": 1,
   "id": "edf8c9e9-d65c-4f1c-a8e3-9174796ef3f3",
   "metadata": {},
   "outputs": [],
   "source": [
    "import requests"
   ]
  },
  {
   "cell_type": "markdown",
   "id": "45cd4788-a879-495a-a966-52c4051f20aa",
   "metadata": {},
   "source": [
    "### create a timer decorator (from RealPython)"
   ]
  },
  {
   "cell_type": "code",
   "execution_count": 11,
   "id": "113d5f17-4016-4f3c-8b3b-689e7ca65c42",
   "metadata": {},
   "outputs": [],
   "source": [
    "import functools\n",
    "import time\n",
    "\n",
    "def timer(func):\n",
    "    @functools.wraps(func)\n",
    "    def wrapper_timer(*args, **kwargs):\n",
    "        tic = time.perf_counter()\n",
    "        value = func(*args, **kwargs)\n",
    "        toc = time.perf_counter()\n",
    "        elapsed_time = toc - tic\n",
    "        print(f\"Elapsed time: {elapsed_time:0.4f} seconds\")\n",
    "        return value\n",
    "    return wrapper_timer"
   ]
  },
  {
   "cell_type": "markdown",
   "id": "a90f2de1-82bf-4c88-84f6-68c48bd1ad2f",
   "metadata": {},
   "source": [
    "### request url generators"
   ]
  },
  {
   "cell_type": "code",
   "execution_count": 3,
   "id": "a8556f41-bc62-4fce-a051-d0d6a0d8ff5a",
   "metadata": {},
   "outputs": [],
   "source": [
    "API_KEY = '088886bd-cc48-4d7c-bd8a-498d353d7d13'\n",
    "\n",
    "def url_fetch_all():\n",
    "    return f'http://bustime.mta.info/api/siri/vehicle-monitoring.json?key={API_KEY}&VehicleMonitoringDetailLevel=calls'\n",
    "\n",
    "def url_fetch_1(route):\n",
    "    return f'http://bustime.mta.info/api/siri/vehicle-monitoring.json?key={API_KEY}&VehicleMonitoringDetailLevel=calls&LineRef={route}'\n"
   ]
  },
  {
   "cell_type": "markdown",
   "id": "68c43715-b790-4d43-899a-cd3f355834b5",
   "metadata": {},
   "source": [
    "# fetch a snapshot of entire system — all buses, right now"
   ]
  },
  {
   "cell_type": "code",
   "execution_count": 6,
   "id": "c9ac963f-7b9b-4d43-bb92-5fd34f280ef5",
   "metadata": {},
   "outputs": [
    {
     "name": "stderr",
     "output_type": "stream",
     "text": [
      "IOPub data rate exceeded.\n",
      "The Jupyter server will temporarily stop sending output\n",
      "to the client in order to avoid crashing it.\n",
      "To change this limit, set the config variable\n",
      "`--ServerApp.iopub_data_rate_limit`.\n",
      "\n",
      "Current values:\n",
      "ServerApp.iopub_data_rate_limit=1000000.0 (bytes/sec)\n",
      "ServerApp.rate_limit_window=3.0 (secs)\n",
      "\n"
     ]
    },
    {
     "data": {
      "text/plain": [
       "1"
      ]
     },
     "execution_count": 6,
     "metadata": {},
     "output_type": "execute_result"
    }
   ],
   "source": [
    "@timer\n",
    "def get_all():\n",
    "    response = requests.get(url_fetch_all())\n",
    "    jsonResponse = response.json()\n",
    "    print(jsonResponse)\n",
    "    return jsonResponse\n",
    "\n",
    "buses = get_all()\n",
    "# ['Siri']['ServiceDelivery']['VehicleMonitoringDelivery'][0]['VehicleActivity']\n",
    "len(buses)"
   ]
  },
  {
   "cell_type": "markdown",
   "id": "7c54dd2e-a993-45e2-989b-ba01f2773b28",
   "metadata": {},
   "source": [
    "# fetch only ONE route"
   ]
  },
  {
   "cell_type": "code",
   "execution_count": 4,
   "id": "da1f8de4-386a-497e-bda7-50bf069787d3",
   "metadata": {},
   "outputs": [
    {
     "name": "stdout",
     "output_type": "stream",
     "text": [
      "Elapsed time: 0.3977 seconds\n"
     ]
    },
    {
     "data": {
      "text/plain": [
       "15"
      ]
     },
     "execution_count": 4,
     "metadata": {},
     "output_type": "execute_result"
    }
   ],
   "source": [
    "@ timer\n",
    "def get_one(route):\n",
    "    response = requests.get(url_fetch_1(route))\n",
    "    jsonResponse = response.json()\n",
    "    return jsonResponse\n",
    "\n",
    "buses = get_one('M15')['Siri']['ServiceDelivery']['VehicleMonitoringDelivery'][0]['VehicleActivity']\n",
    "len(buses)"
   ]
  },
  {
   "cell_type": "markdown",
   "id": "c36f6aac-3fcd-46c8-820f-a2b8b1b97318",
   "metadata": {},
   "source": [
    "# fetch entire system one route at a time"
   ]
  },
  {
   "cell_type": "markdown",
   "id": "b6e45929-39f4-40b9-b7fa-ddbc8048a073",
   "metadata": {},
   "source": [
    "## get the list of routes from a sister API, MTA BusTime's One Bus Away"
   ]
  },
  {
   "cell_type": "code",
   "execution_count": 5,
   "id": "1bac94ca-742c-4b6d-bbe3-29321f25bcb2",
   "metadata": {},
   "outputs": [
    {
     "name": "stdout",
     "output_type": "stream",
     "text": [
      "['MTA NYCT_M34+', 'MTA NYCT_B52', 'MTA NYCT_Q24', 'MTA NYCT_S66', 'MTA NYCT_Q27', 'MTA NYCT_Q26', 'MTA NYCT_Q28', 'MTA NYCT_B46+', 'MTA NYCT_S61', 'MTA NYCT_SIM15', 'MTA NYCT_S62', 'MTA NYCT_B44', 'MTA NYCT_B43', 'MTA NYCT_SIM10', 'MTA NYCT_B46', 'MTA NYCT_SIM11', 'MTA NYCT_B45', 'MTA NYCT_B48', 'MTA NYCT_B47', 'MTA NYCT_SIM9', 'MTA NYCT_B49', 'MTA NYCT_SIM8', 'MTA NYCT_SIM7', 'MTA NYCT_SIM6', 'MTA NYCT_B60', 'MTA NYCT_SIM5', 'MTA NYCT_SIM4', 'MTA NYCT_B62', 'MTA NYCT_SIM1C', 'MTA NYCT_SIM3', 'MTA NYCT_B61', 'MTA NYCT_SIM2', 'MTA NYCT_B64', 'MTA NYCT_SIM1', 'MTA NYCT_B63', 'MTA NYCT_S76', 'MTA NYCT_Q36', 'MTA NYCT_S78', 'MTA NYCT_S79+', 'MTA NYCT_BX12+', 'MTA NYCT_Q30', 'MTA NYCT_SIM25', 'MTA NYCT_Q32', 'MTA NYCT_S74', 'MTA NYCT_SIM26', 'MTA NYCT_Q31', 'MTA NYCT_B54', 'MTA NYCT_B57', 'MTA NYCT_D99', 'MTA NYCT_SIM22', 'MTA NYCT_BX2', 'MTA NYCT_BX1', 'MTA NYCT_B70', 'MTA NYCT_BX4', 'MTA NYCT_X28', 'MTA NYCT_BX3', 'MTA NYCT_X27', 'MTA NYCT_BX6', 'MTA NYCT_BX5', 'MTA NYCT_B74', 'MTA NYCT_S86', 'MTA NYCT_S89', 'MTA NYCT_Q46', 'MTA NYCT_Q48', 'MTA NYCT_S81', 'MTA NYCT_M116', 'MTA NYCT_Q15A', 'MTA NYCT_Q43', 'MTA NYCT_Q42', 'MTA NYCT_S84', 'MTA NYCT_B65', 'MTA NYCT_B68', 'MTA NYCT_B67', 'MTA NYCT_B69', 'MTA NYCT_M23+', 'MTA NYCT_B82', 'MTA NYCT_X37', 'MTA NYCT_B84', 'MTA NYCT_B83', 'MTA NYCT_X38', 'MTA NYCT_Q56', 'MTA NYCT_S98', 'MTA NYCT_SIM33C', 'MTA NYCT_Q55', 'MTA NYCT_Q58', 'MTA NYCT_Q59', 'MTA NYCT_S90', 'MTA NYCT_S92', 'MTA NYCT_S91', 'MTA NYCT_S94', 'MTA NYCT_M106', 'MTA NYCT_S93', 'MTA NYCT_Q54', 'MTA NYCT_S96', 'MTA NYCT_BX8', 'MTA NYCT_M101', 'MTA NYCT_BX7', 'MTA NYCT_M102', 'MTA NYCT_M103', 'MTA NYCT_BX9', 'MTA NYCT_M104', 'MTA NYCT_M100', 'MTA NYCT_BX13', 'MTA NYCT_BX12', 'MTA NYCT_BX11', 'MTA NYCT_BX10', 'MTA NYCT_BX19', 'MTA NYCT_BX18', 'MTA NYCT_BX17', 'MTA NYCT_BX16', 'MTA NYCT_BX15', 'MTA NYCT_M14A+', 'MTA NYCT_B82+', 'MTA NYCT_Q77', 'MTA NYCT_Q76', 'MTA NYCT_BX35', 'MTA NYCT_X68', 'MTA NYCT_BX34', 'MTA NYCT_BX33', 'MTA NYCT_BX32', 'MTA NYCT_BX31', 'MTA NYCT_BX30', 'MTA NYCT_Q88', 'MTA NYCT_BX39', 'MTA NYCT_X64', 'MTA NYCT_BX38', 'MTA NYCT_X63', 'MTA NYCT_BX36', 'MTA NYCT_Q83', 'MTA NYCT_Q85', 'MTA NYCT_Q84', 'MTA NYCT_BX24', 'MTA NYCT_BX22', 'MTA NYCT_BX21', 'MTA NYCT_BX20', 'MTA NYCT_M15+', 'MTA NYCT_M15', 'MTA NYCT_BX29', 'MTA NYCT_BX28', 'MTA NYCT_BX27', 'MTA NYCT_BX26', 'MTA NYCT_M10', 'MTA NYCT_M12', 'MTA NYCT_M11', 'MTA NYCT_M86+', 'MTA NYCT_M21', 'MTA NYCT_M20', 'MTA NYCT_BX41+', 'MTA NYCT_BX4A', 'MTA NYCT_M22', 'MTA NYCT_SIM8X', 'MTA NYCT_BX46', 'MTA NYCT_BX42', 'MTA NYCT_BX41', 'MTA NYCT_BX40', 'MTA NYCT_M31', 'MTA NYCT_M35', 'MTA NYCT_M14D+', 'MTA NYCT_M60+', 'MTA NYCT_Q44+', 'MTA NYCT_M7', 'MTA NYCT_M8', 'MTA NYCT_M42', 'MTA NYCT_M9', 'MTA NYCT_M1', 'MTA NYCT_M2', 'MTA NYCT_M3', 'MTA NYCT_M4', 'MTA NYCT_M5', 'MTA NYCT_M55', 'MTA NYCT_M57', 'MTA NYCT_BX6+', 'MTA NYCT_M50', 'MTA NYCT_SIM4C', 'MTA NYCT_M66', 'MTA NYCT_SIM4X', 'MTA NYCT_B20', 'MTA NYCT_Q1', 'MTA NYCT_Q20B', 'MTA NYCT_Q20A', 'MTA NYCT_B11', 'MTA NYCT_B13', 'MTA NYCT_B12', 'MTA NYCT_B15', 'MTA NYCT_B14', 'MTA NYCT_B17', 'MTA NYCT_M72', 'MTA NYCT_B16', 'MTA NYCT_B31', 'MTA NYCT_S42', 'MTA NYCT_S44', 'MTA NYCT_S46', 'MTA NYCT_S48', 'MTA NYCT_SIM35', 'MTA NYCT_S40', 'MTA NYCT_Q2', 'MTA NYCT_SIM31', 'MTA NYCT_Q3', 'MTA NYCT_SIM32', 'MTA NYCT_B24', 'MTA NYCT_M34A+', 'MTA NYCT_Q4', 'MTA NYCT_SIM33', 'MTA NYCT_Q5', 'MTA NYCT_SIM34', 'MTA NYCT_B26', 'MTA NYCT_B25', 'MTA NYCT_B44+', 'MTA NYCT_SIM30', 'MTA NYCT_B42', 'MTA NYCT_B41', 'MTA NYCT_M79+', 'MTA NYCT_B3', 'MTA NYCT_Q12', 'MTA NYCT_S54', 'MTA NYCT_B4', 'MTA NYCT_S53', 'MTA NYCT_S56', 'MTA NYCT_SIM3C', 'MTA NYCT_B6', 'MTA NYCT_Q13', 'MTA NYCT_S55', 'MTA NYCT_B7', 'MTA NYCT_Q16', 'MTA NYCT_B8', 'MTA NYCT_Q15', 'MTA NYCT_S57', 'MTA NYCT_B9', 'MTA NYCT_Q17', 'MTA NYCT_S59', 'MTA NYCT_M96', 'MTA NYCT_M98', 'MTA NYCT_B1', 'MTA NYCT_S52', 'MTA NYCT_B2', 'MTA NYCT_S51', 'MTA NYCT_B32', 'MTA NYCT_B35', 'MTA NYCT_B37', 'MTA NYCT_B36', 'MTA NYCT_B39', 'MTA NYCT_B38']\n"
     ]
    }
   ],
   "source": [
    "def get_OBA_routelist():\n",
    "    url = \"http://bustime.mta.info/api/where/routes-for-agency/MTA%20NYCT.json?key=\" + API_KEY\n",
    "    response = requests.get(url, timeout=30)\n",
    "    return [x['id'] for x in response.json()['data']['list']]\n",
    "\n",
    "print ( get_OBA_routelist() )\n"
   ]
  },
  {
   "cell_type": "markdown",
   "id": "c56f79a1-5482-492c-a445-2170d73f9727",
   "metadata": {},
   "source": [
    "## iterate over the list, calling get_one() for each route"
   ]
  },
  {
   "cell_type": "code",
   "execution_count": 6,
   "id": "36dd3d2d-d68e-4e21-8c99-8ceb0997986b",
   "metadata": {},
   "outputs": [
    {
     "name": "stdout",
     "output_type": "stream",
     "text": [
      "0 buses on MTA NYCT_M34+\n",
      "13 buses on MTA NYCT_B52\n",
      "8 buses on MTA NYCT_Q24\n",
      "2 buses on MTA NYCT_S66\n",
      "24 buses on MTA NYCT_Q27\n",
      "3 buses on MTA NYCT_Q26\n",
      "4 buses on MTA NYCT_Q28\n",
      "0 buses on MTA NYCT_B46+\n",
      "2 buses on MTA NYCT_S61\n",
      "2 buses on MTA NYCT_SIM15\n",
      "3 buses on MTA NYCT_S62\n",
      "13 buses on MTA NYCT_B44\n",
      "12 buses on MTA NYCT_B43\n",
      "2 buses on MTA NYCT_SIM10\n",
      "16 buses on MTA NYCT_B46\n",
      "1 buses on MTA NYCT_SIM11\n",
      "5 buses on MTA NYCT_B45\n",
      "3 buses on MTA NYCT_B48\n",
      "10 buses on MTA NYCT_B47\n",
      "2 buses on MTA NYCT_SIM9\n",
      "12 buses on MTA NYCT_B49\n",
      "4 buses on MTA NYCT_SIM8\n",
      "3 buses on MTA NYCT_SIM7\n",
      "3 buses on MTA NYCT_SIM6\n",
      "8 buses on MTA NYCT_B60\n",
      "0 buses on MTA NYCT_SIM5\n",
      "0 buses on MTA NYCT_SIM4\n",
      "7 buses on MTA NYCT_B62\n",
      "7 buses on MTA NYCT_SIM1C\n",
      "0 buses on MTA NYCT_SIM3\n",
      "5 buses on MTA NYCT_B61\n",
      "2 buses on MTA NYCT_SIM2\n",
      "7 buses on MTA NYCT_B64\n",
      "2 buses on MTA NYCT_SIM1\n",
      "11 buses on MTA NYCT_B63\n",
      "5 buses on MTA NYCT_S76\n",
      "7 buses on MTA NYCT_Q36\n",
      "6 buses on MTA NYCT_S78\n",
      "0 buses on MTA NYCT_S79+\n",
      "0 buses on MTA NYCT_BX12+\n",
      "12 buses on MTA NYCT_Q30\n",
      "2 buses on MTA NYCT_SIM25\n",
      "10 buses on MTA NYCT_Q32\n",
      "10 buses on MTA NYCT_S74\n",
      "3 buses on MTA NYCT_SIM26\n",
      "2 buses on MTA NYCT_Q31\n",
      "8 buses on MTA NYCT_B54\n",
      "6 buses on MTA NYCT_B57\n",
      "0 buses on MTA NYCT_D99\n",
      "2 buses on MTA NYCT_SIM22\n",
      "10 buses on MTA NYCT_BX2\n",
      "9 buses on MTA NYCT_BX1\n",
      "3 buses on MTA NYCT_B70\n",
      "3 buses on MTA NYCT_BX4\n",
      "5 buses on MTA NYCT_X28\n",
      "10 buses on MTA NYCT_BX3\n",
      "6 buses on MTA NYCT_X27\n",
      "10 buses on MTA NYCT_BX6\n",
      "12 buses on MTA NYCT_BX5\n",
      "2 buses on MTA NYCT_B74\n",
      "0 buses on MTA NYCT_S86\n",
      "1 buses on MTA NYCT_S89\n",
      "17 buses on MTA NYCT_Q46\n",
      "4 buses on MTA NYCT_Q48\n",
      "0 buses on MTA NYCT_S81\n",
      "4 buses on MTA NYCT_M116\n",
      "4 buses on MTA NYCT_Q15A\n",
      "12 buses on MTA NYCT_Q43\n",
      "3 buses on MTA NYCT_Q42\n",
      "0 buses on MTA NYCT_S84\n",
      "6 buses on MTA NYCT_B65\n",
      "9 buses on MTA NYCT_B68\n",
      "3 buses on MTA NYCT_B67\n",
      "4 buses on MTA NYCT_B69\n",
      "0 buses on MTA NYCT_M23+\n",
      "15 buses on MTA NYCT_B82\n",
      "3 buses on MTA NYCT_X37\n",
      "1 buses on MTA NYCT_B84\n",
      "10 buses on MTA NYCT_B83\n",
      "0 buses on MTA NYCT_X38\n",
      "8 buses on MTA NYCT_Q56\n",
      "2 buses on MTA NYCT_S98\n",
      "4 buses on MTA NYCT_SIM33C\n",
      "5 buses on MTA NYCT_Q55\n",
      "28 buses on MTA NYCT_Q58\n",
      "5 buses on MTA NYCT_Q59\n",
      "0 buses on MTA NYCT_S90\n",
      "0 buses on MTA NYCT_S92\n",
      "1 buses on MTA NYCT_S91\n",
      "0 buses on MTA NYCT_S94\n",
      "2 buses on MTA NYCT_M106\n",
      "4 buses on MTA NYCT_S93\n",
      "9 buses on MTA NYCT_Q54\n",
      "1 buses on MTA NYCT_S96\n",
      "7 buses on MTA NYCT_BX8\n",
      "21 buses on MTA NYCT_M101\n",
      "14 buses on MTA NYCT_BX7\n",
      "13 buses on MTA NYCT_M102\n",
      "8 buses on MTA NYCT_M103\n",
      "15 buses on MTA NYCT_BX9\n",
      "9 buses on MTA NYCT_M104\n",
      "12 buses on MTA NYCT_M100\n",
      "10 buses on MTA NYCT_BX13\n",
      "2 buses on MTA NYCT_BX12\n",
      "11 buses on MTA NYCT_BX11\n",
      "13 buses on MTA NYCT_BX10\n",
      "13 buses on MTA NYCT_BX19\n",
      "2 buses on MTA NYCT_BX18\n",
      "7 buses on MTA NYCT_BX17\n",
      "7 buses on MTA NYCT_BX16\n",
      "16 buses on MTA NYCT_BX15\n",
      "0 buses on MTA NYCT_M14A+\n",
      "0 buses on MTA NYCT_B82+\n",
      "5 buses on MTA NYCT_Q77\n",
      "6 buses on MTA NYCT_Q76\n",
      "9 buses on MTA NYCT_BX35\n",
      "2 buses on MTA NYCT_X68\n",
      "5 buses on MTA NYCT_BX34\n",
      "1 buses on MTA NYCT_BX33\n",
      "5 buses on MTA NYCT_BX32\n",
      "8 buses on MTA NYCT_BX31\n",
      "9 buses on MTA NYCT_BX30\n",
      "11 buses on MTA NYCT_Q88\n",
      "11 buses on MTA NYCT_BX39\n",
      "1 buses on MTA NYCT_X64\n",
      "5 buses on MTA NYCT_BX38\n",
      "4 buses on MTA NYCT_X63\n",
      "14 buses on MTA NYCT_BX36\n",
      "8 buses on MTA NYCT_Q83\n",
      "14 buses on MTA NYCT_Q85\n",
      "6 buses on MTA NYCT_Q84\n",
      "2 buses on MTA NYCT_BX24\n",
      "10 buses on MTA NYCT_BX22\n",
      "9 buses on MTA NYCT_BX21\n",
      "2 buses on MTA NYCT_BX20\n",
      "0 buses on MTA NYCT_M15+\n",
      "15 buses on MTA NYCT_M15\n",
      "2 buses on MTA NYCT_BX29\n",
      "7 buses on MTA NYCT_BX28\n",
      "4 buses on MTA NYCT_BX27\n",
      "5 buses on MTA NYCT_BX26\n",
      "7 buses on MTA NYCT_M10\n",
      "3 buses on MTA NYCT_M12\n",
      "10 buses on MTA NYCT_M11\n",
      "0 buses on MTA NYCT_M86+\n",
      "2 buses on MTA NYCT_M21\n",
      "5 buses on MTA NYCT_M20\n",
      "0 buses on MTA NYCT_BX41+\n",
      "5 buses on MTA NYCT_BX4A\n",
      "3 buses on MTA NYCT_M22\n",
      "1 buses on MTA NYCT_SIM8X\n",
      "2 buses on MTA NYCT_BX46\n",
      "7 buses on MTA NYCT_BX42\n",
      "9 buses on MTA NYCT_BX41\n",
      "5 buses on MTA NYCT_BX40\n",
      "9 buses on MTA NYCT_M31\n",
      "3 buses on MTA NYCT_M35\n",
      "0 buses on MTA NYCT_M14D+\n",
      "0 buses on MTA NYCT_M60+\n",
      "0 buses on MTA NYCT_Q44+\n",
      "11 buses on MTA NYCT_M7\n",
      "1 buses on MTA NYCT_M8\n",
      "5 buses on MTA NYCT_M42\n",
      "4 buses on MTA NYCT_M9\n",
      "9 buses on MTA NYCT_M1\n",
      "14 buses on MTA NYCT_M2\n",
      "20 buses on MTA NYCT_M3\n",
      "21 buses on MTA NYCT_M4\n",
      "11 buses on MTA NYCT_M5\n",
      "5 buses on MTA NYCT_M55\n",
      "6 buses on MTA NYCT_M57\n",
      "0 buses on MTA NYCT_BX6+\n",
      "3 buses on MTA NYCT_M50\n",
      "6 buses on MTA NYCT_SIM4C\n",
      "5 buses on MTA NYCT_M66\n",
      "0 buses on MTA NYCT_SIM4X\n",
      "10 buses on MTA NYCT_B20\n",
      "6 buses on MTA NYCT_Q1\n",
      "8 buses on MTA NYCT_Q20B\n",
      "7 buses on MTA NYCT_Q20A\n",
      "9 buses on MTA NYCT_B11\n",
      "9 buses on MTA NYCT_B13\n",
      "9 buses on MTA NYCT_B12\n",
      "18 buses on MTA NYCT_B15\n",
      "6 buses on MTA NYCT_B14\n",
      "11 buses on MTA NYCT_B17\n",
      "4 buses on MTA NYCT_M72\n",
      "6 buses on MTA NYCT_B16\n",
      "3 buses on MTA NYCT_B31\n",
      "1 buses on MTA NYCT_S42\n",
      "9 buses on MTA NYCT_S44\n",
      "6 buses on MTA NYCT_S46\n",
      "3 buses on MTA NYCT_S48\n",
      "0 buses on MTA NYCT_SIM35\n",
      "6 buses on MTA NYCT_S40\n",
      "5 buses on MTA NYCT_Q2\n",
      "2 buses on MTA NYCT_SIM31\n",
      "8 buses on MTA NYCT_Q3\n",
      "0 buses on MTA NYCT_SIM32\n",
      "2 buses on MTA NYCT_B24\n",
      "0 buses on MTA NYCT_M34A+\n",
      "12 buses on MTA NYCT_Q4\n",
      "1 buses on MTA NYCT_SIM33\n",
      "10 buses on MTA NYCT_Q5\n",
      "0 buses on MTA NYCT_SIM34\n",
      "10 buses on MTA NYCT_B26\n",
      "7 buses on MTA NYCT_B25\n",
      "0 buses on MTA NYCT_B44+\n",
      "2 buses on MTA NYCT_SIM30\n",
      "5 buses on MTA NYCT_B42\n",
      "32 buses on MTA NYCT_B41\n",
      "0 buses on MTA NYCT_M79+\n",
      "12 buses on MTA NYCT_B3\n",
      "8 buses on MTA NYCT_Q12\n",
      "2 buses on MTA NYCT_S54\n",
      "6 buses on MTA NYCT_B4\n",
      "7 buses on MTA NYCT_S53\n",
      "0 buses on MTA NYCT_S56\n",
      "6 buses on MTA NYCT_SIM3C\n",
      "38 buses on MTA NYCT_B6\n",
      "9 buses on MTA NYCT_Q13\n",
      "0 buses on MTA NYCT_S55\n",
      "7 buses on MTA NYCT_B7\n",
      "4 buses on MTA NYCT_Q16\n",
      "12 buses on MTA NYCT_B8\n",
      "1 buses on MTA NYCT_Q15\n",
      "4 buses on MTA NYCT_S57\n",
      "9 buses on MTA NYCT_B9\n",
      "21 buses on MTA NYCT_Q17\n",
      "4 buses on MTA NYCT_S59\n",
      "7 buses on MTA NYCT_M96\n",
      "1 buses on MTA NYCT_M98\n",
      "13 buses on MTA NYCT_B1\n",
      "4 buses on MTA NYCT_S52\n",
      "2 buses on MTA NYCT_B2\n",
      "5 buses on MTA NYCT_S51\n",
      "2 buses on MTA NYCT_B32\n",
      "20 buses on MTA NYCT_B35\n",
      "5 buses on MTA NYCT_B37\n",
      "10 buses on MTA NYCT_B36\n",
      "1 buses on MTA NYCT_B39\n",
      "15 buses on MTA NYCT_B38\n",
      "Elapsed time: 49.0058 seconds\n"
     ]
    }
   ],
   "source": [
    "def get_one(route): #no timer decorator\n",
    "    response = requests.get(url_fetch_1(route))\n",
    "    jsonResponse = response.json()\n",
    "    return jsonResponse\n",
    "\n",
    "@ timer\n",
    "def get_all_one_at_a_time():\n",
    "    responses = []\n",
    "    for route in get_OBA_routelist():\n",
    "        \n",
    "        jsonResponse = get_one(route)\n",
    "        try:\n",
    "            print(\n",
    "                f\"{len(jsonResponse['Siri']['ServiceDelivery']['VehicleMonitoringDelivery'][0]['VehicleActivity'])} buses on {route}\"\n",
    "            )\n",
    "        except:\n",
    "            print(f'0 buses on {route}')\n",
    "        responses.append(jsonResponse)\n",
    "    return responses\n",
    "\n",
    "responses = get_all_one_at_a_time()\n"
   ]
  },
  {
   "cell_type": "markdown",
   "id": "d061a770-6240-4f33-890c-d286e221badb",
   "metadata": {},
   "source": [
    "# fetch entire system one route at a time — asynchronously..."
   ]
  },
  {
   "cell_type": "code",
   "execution_count": 9,
   "id": "f54c5b99-570f-409a-a3c3-60d33daaf4c7",
   "metadata": {},
   "outputs": [],
   "source": [
    "API_KEY = '088886bd-cc48-4d7c-bd8a-498d353d7d13'\n",
    "\n",
    "import requests\n",
    "from time import time\n",
    "import datetime as dt\n",
    "import trio\n",
    "\n",
    "def async_grab_and_store(localhost, cwd):\n",
    "    start = time()\n",
    "    SIRI_request_urlpaths = get_SIRI_request_urlpaths()\n",
    "    feeds = []\n",
    "\n",
    "    async def grabber(s,a_path,route_id):\n",
    "        try:\n",
    "            r = await s.get(path=a_path, retries=10)\n",
    "            feeds.append({route_id:r})\n",
    "        except Exception as e:\n",
    "            logging.error ('\\tCould not fetch feed for {}. (Increase max retries for Session.get()?)'.format(route_id) )\n",
    "\n",
    "    async def main(path_list):\n",
    "        from asks.sessions import Session\n",
    "\n",
    "        if localhost is True:\n",
    "            s = Session('http://bustime.mta.info', connections=5)\n",
    "        else:\n",
    "            s = Session('http://bustime.mta.info', connections=config.config['http_connections'])\n",
    "        async with trio.open_nursery() as n:\n",
    "            for path_bundle in path_list:\n",
    "                for route_id,path in path_bundle.items():\n",
    "                    n.start_soon(grabber, s, path, route_id )\n",
    "\n",
    "    trio.run(main, SIRI_request_urlpaths)\n",
    "\n",
    "    # dump to the various locations\n",
    "    timestamp = dt.datetime.now()\n",
    "    # DataLake(cwd).make_puddles(feeds, DatePointer(timestamp))\n",
    "    # DataStore(cwd).make_barrels(feeds, DatePointer(timestamp))\n",
    "\n",
    "    # report results to console\n",
    "    n_buses = num_buses(feeds)\n",
    "    end = time()\n",
    "    print('Grabbed {} route feeds containing {} buses in {:2f} seconds at {}.'.format(len(feeds),n_buses,(end - start), dt.datetime.now().strftime('%Y-%m-%d %H:%M:%S')))\n",
    "    return\n",
    "\n",
    "\n",
    "def get_OBA_routelist():\n",
    "    url = \"http://bustime.mta.info/api/where/routes-for-agency/MTA%20NYCT.json?key=\" + API_KEY\n",
    "    response = requests.get(url, timeout=30)\n",
    "    routes = response.json()\n",
    "    return routes\n",
    "\n",
    "\n",
    "def get_SIRI_request_urlpaths():\n",
    "    SIRI_request_urlpaths = []\n",
    "    routes=get_OBA_routelist()\n",
    "    for route in routes['data']['list']:\n",
    "        SIRI_request_urlpaths.append({route['id']:\"/api/siri/vehicle-monitoring.json?key={}&VehicleMonitoringDetailLevel=calls&LineRef={}\".format(API_KEY, route['id'])})\n",
    "    return SIRI_request_urlpaths\n",
    "\n",
    "\n",
    "def num_buses(feeds):\n",
    "    num_buses=0\n",
    "    for route_report in feeds:\n",
    "        for route_id,route_data in route_report.items():\n",
    "            try:\n",
    "                route_data = route_data.json()\n",
    "                for monitored_vehicle_journey in route_data['Siri']['ServiceDelivery']['VehicleMonitoringDelivery'][0]['VehicleActivity']:\n",
    "                    num_buses = num_buses + 1\n",
    "            except: # no vehicle activity?\n",
    "                pass\n",
    "    return num_buses\n"
   ]
  },
  {
   "cell_type": "code",
   "execution_count": 10,
   "id": "818cdb44-4ae2-44e5-9e16-684e5e3b1d90",
   "metadata": {},
   "outputs": [
    {
     "name": "stdout",
     "output_type": "stream",
     "text": [
      "Grabbed 242 route feeds containing 1491 buses in 9.905955 seconds at 2021-09-15 19:58:48.\n"
     ]
    }
   ],
   "source": [
    "localhost = True\n",
    "cwd = '.'\n",
    "async_grab_and_store(localhost, cwd)"
   ]
  },
  {
   "cell_type": "code",
   "execution_count": null,
   "id": "451b69cf-be78-4064-b10b-f89d5966f691",
   "metadata": {},
   "outputs": [],
   "source": []
  }
 ],
 "metadata": {
  "kernelspec": {
   "display_name": "Python [conda env:tutorials]",
   "language": "python",
   "name": "conda-env-tutorials-py"
  },
  "language_info": {
   "codemirror_mode": {
    "name": "ipython",
    "version": 3
   },
   "file_extension": ".py",
   "mimetype": "text/x-python",
   "name": "python",
   "nbconvert_exporter": "python",
   "pygments_lexer": "ipython3",
   "version": "3.8.11"
  }
 },
 "nbformat": 4,
 "nbformat_minor": 5
}
