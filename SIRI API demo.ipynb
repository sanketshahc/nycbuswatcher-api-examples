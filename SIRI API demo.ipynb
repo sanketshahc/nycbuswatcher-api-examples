{
 "cells": [
  {
   "cell_type": "markdown",
   "id": "f74028e2-6e45-4ef4-8a70-81c8db1bb0ff",
   "metadata": {},
   "source": [
    "# MTA BusTime SIRI API demo"
   ]
  },
  {
   "cell_type": "markdown",
   "id": "60c8dbef-0375-4d52-891a-0bde7b519654",
   "metadata": {},
   "source": [
    "## setup"
   ]
  },
  {
   "cell_type": "code",
   "execution_count": 1,
   "id": "42e43308-1725-4990-bfd3-539fa88c041a",
   "metadata": {},
   "outputs": [
    {
     "name": "stdout",
     "output_type": "stream",
     "text": [
      "Requirement already satisfied: requests in /opt/bin/miniconda3/envs/geo/lib/python3.9/site-packages (2.25.1)\n",
      "Collecting trio\n",
      "  Downloading trio-0.19.0-py3-none-any.whl (356 kB)\n",
      "\u001b[K     |████████████████████████████████| 356 kB 4.3 MB/s eta 0:00:01\n",
      "\u001b[?25hCollecting asks\n",
      "  Downloading asks-2.4.12.tar.gz (23 kB)\n",
      "Requirement already satisfied: idna<3,>=2.5 in /opt/bin/miniconda3/envs/geo/lib/python3.9/site-packages (from requests) (2.10)\n",
      "Requirement already satisfied: certifi>=2017.4.17 in /opt/bin/miniconda3/envs/geo/lib/python3.9/site-packages (from requests) (2020.12.5)\n",
      "Requirement already satisfied: urllib3<1.27,>=1.21.1 in /opt/bin/miniconda3/envs/geo/lib/python3.9/site-packages (from requests) (1.26.6)\n",
      "Requirement already satisfied: chardet<5,>=3.0.2 in /opt/bin/miniconda3/envs/geo/lib/python3.9/site-packages (from requests) (4.0.0)\n",
      "Requirement already satisfied: attrs>=19.2.0 in /opt/bin/miniconda3/envs/geo/lib/python3.9/site-packages (from trio) (21.2.0)\n",
      "Collecting outcome\n",
      "  Downloading outcome-1.1.0-py2.py3-none-any.whl (9.7 kB)\n",
      "Requirement already satisfied: async-generator>=1.9 in /opt/bin/miniconda3/envs/geo/lib/python3.9/site-packages (from trio) (1.10)\n",
      "Requirement already satisfied: sortedcontainers in /opt/bin/miniconda3/envs/geo/lib/python3.9/site-packages (from trio) (2.4.0)\n",
      "Collecting sniffio\n",
      "  Downloading sniffio-1.2.0-py3-none-any.whl (10 kB)\n",
      "Collecting h11\n",
      "  Downloading h11-0.12.0-py3-none-any.whl (54 kB)\n",
      "\u001b[K     |████████████████████████████████| 54 kB 8.8 MB/s  eta 0:00:01\n",
      "\u001b[?25hCollecting anyio~=2.0\n",
      "  Downloading anyio-2.2.0-py3-none-any.whl (65 kB)\n",
      "\u001b[K     |████████████████████████████████| 65 kB 537 kB/s  eta 0:00:01\n",
      "\u001b[?25hBuilding wheels for collected packages: asks\n",
      "  Building wheel for asks (setup.py) ... \u001b[?25ldone\n",
      "\u001b[?25h  Created wheel for asks: filename=asks-2.4.12-py3-none-any.whl size=25680 sha256=a948c9416a8072dd5507209bdc581ce6e0b8e7137b70229b15001b94c90b9832\n",
      "  Stored in directory: /Users/anthonytownsend/Library/Caches/pip/wheels/5c/37/5a/435ec69c044db2e04ac60f3cec7874d7011966e66e887ba15f\n",
      "Successfully built asks\n",
      "Installing collected packages: sniffio, outcome, h11, anyio, trio, asks\n",
      "Successfully installed anyio-2.2.0 asks-2.4.12 h11-0.12.0 outcome-1.1.0 sniffio-1.2.0 trio-0.19.0\n"
     ]
    }
   ],
   "source": [
    "!pip install requests trio asks"
   ]
  },
  {
   "cell_type": "code",
   "execution_count": null,
   "id": "edf8c9e9-d65c-4f1c-a8e3-9174796ef3f3",
   "metadata": {},
   "outputs": [],
   "source": [
    "import requests"
   ]
  },
  {
   "cell_type": "markdown",
   "id": "45cd4788-a879-495a-a966-52c4051f20aa",
   "metadata": {},
   "source": [
    "### create a timer decorator (from RealPython)"
   ]
  },
  {
   "cell_type": "code",
   "execution_count": null,
   "id": "113d5f17-4016-4f3c-8b3b-689e7ca65c42",
   "metadata": {},
   "outputs": [],
   "source": [
    "import functools\n",
    "import time\n",
    "\n",
    "def timer(func):\n",
    "    @functools.wraps(func)\n",
    "    def wrapper_timer(*args, **kwargs):\n",
    "        tic = time.perf_counter()\n",
    "        value = func(*args, **kwargs)\n",
    "        toc = time.perf_counter()\n",
    "        elapsed_time = toc - tic\n",
    "        print(f\"Elapsed time: {elapsed_time:0.4f} seconds\")\n",
    "        return value\n",
    "    return wrapper_timer"
   ]
  },
  {
   "cell_type": "markdown",
   "id": "a90f2de1-82bf-4c88-84f6-68c48bd1ad2f",
   "metadata": {},
   "source": [
    "### request url generators"
   ]
  },
  {
   "cell_type": "code",
   "execution_count": null,
   "id": "a8556f41-bc62-4fce-a051-d0d6a0d8ff5a",
   "metadata": {},
   "outputs": [],
   "source": [
    "API_KEY = '088886bd-cc48-4d7c-bd8a-498d353d7d13'\n",
    "\n",
    "def url_fetch_all()):\n",
    "    return f'http://bustime.mta.info/api/siri/vehicle-monitoring.json?key={API_KEY}&VehicleMonitoringDetailLevel=calls'\n",
    "\n",
    "def url_fetch_1(route):\n",
    "    return f'http://bustime.mta.info/api/siri/vehicle-monitoring.json?key={API_KEY}&VehicleMonitoringDetailLevel=calls&LineRef={route}'\n"
   ]
  },
  {
   "cell_type": "markdown",
   "id": "68c43715-b790-4d43-899a-cd3f355834b5",
   "metadata": {},
   "source": [
    "# fetch entire system"
   ]
  },
  {
   "cell_type": "code",
   "execution_count": null,
   "id": "c9ac963f-7b9b-4d43-bb92-5fd34f280ef5",
   "metadata": {},
   "outputs": [],
   "source": [
    "@timer\n",
    "def get_all():\n",
    "    response = requests.get(url_fetch_all)\n",
    "    jsonResponse = response.json()\n",
    "    return jsonResponse\n",
    "\n",
    "buses = get_all()['Siri']['ServiceDelivery']['VehicleMonitoringDelivery'][0]['VehicleActivity']\n",
    "len(buses)"
   ]
  },
  {
   "cell_type": "markdown",
   "id": "7c54dd2e-a993-45e2-989b-ba01f2773b28",
   "metadata": {},
   "source": [
    "# fetch a single route"
   ]
  },
  {
   "cell_type": "code",
   "execution_count": null,
   "id": "da1f8de4-386a-497e-bda7-50bf069787d3",
   "metadata": {},
   "outputs": [],
   "source": [
    "@ timer\n",
    "def get_one(route):\n",
    "    response = requests.get(url_fetch_1(route))\n",
    "    jsonResponse = response.json()\n",
    "    return jsonResponse\n",
    "\n",
    "buses = get_one('M15')['Siri']['ServiceDelivery']['VehicleMonitoringDelivery'][0]['VehicleActivity']\n",
    "len(buses)"
   ]
  },
  {
   "cell_type": "markdown",
   "id": "c36f6aac-3fcd-46c8-820f-a2b8b1b97318",
   "metadata": {},
   "source": [
    "# fetch entire system one route at a time"
   ]
  },
  {
   "cell_type": "markdown",
   "id": "b6e45929-39f4-40b9-b7fa-ddbc8048a073",
   "metadata": {},
   "source": [
    "## get the list of routes from a sister API, MTA BusTime's One Bus Away"
   ]
  },
  {
   "cell_type": "code",
   "execution_count": null,
   "id": "1bac94ca-742c-4b6d-bbe3-29321f25bcb2",
   "metadata": {},
   "outputs": [],
   "source": [
    "def get_OBA_routelist():\n",
    "    url = \"http://bustime.mta.info/api/where/routes-for-agency/MTA%20NYCT.json?key=\" + API_KEY\n",
    "    response = requests.get(url, timeout=30)\n",
    "    return [x['id'] for x in response.json()['data']['list']]\n",
    "\n",
    "print ( get_OBA_routelist() )\n"
   ]
  },
  {
   "cell_type": "markdown",
   "id": "c56f79a1-5482-492c-a445-2170d73f9727",
   "metadata": {},
   "source": [
    "## iterate over the list, calling get_one() for each route"
   ]
  },
  {
   "cell_type": "code",
   "execution_count": null,
   "id": "36dd3d2d-d68e-4e21-8c99-8ceb0997986b",
   "metadata": {},
   "outputs": [],
   "source": [
    "def get_one(route): #no timer decorator\n",
    "    response = requests.get(url_fetch_1(route))\n",
    "    jsonResponse = response.json()\n",
    "    return jsonResponse\n",
    "\n",
    "@ timer\n",
    "def get_all_one_at_a_time():\n",
    "    responses = []\n",
    "    for route in get_OBA_routelist():\n",
    "        \n",
    "        jsonResponse = get_one(route)\n",
    "        try:\n",
    "            print(\n",
    "                f\"{len(jsonResponse['Siri']['ServiceDelivery']['VehicleMonitoringDelivery'][0]['VehicleActivity'])} buses on {route}\"\n",
    "            )\n",
    "        except:\n",
    "            print(f'0 buses on {route}')\n",
    "        responses.append(jsonResponse)\n",
    "    return responses\n",
    "\n",
    "responses = get_all_one_at_a_time()\n"
   ]
  },
  {
   "cell_type": "markdown",
   "id": "d061a770-6240-4f33-890c-d286e221badb",
   "metadata": {},
   "source": [
    "# fetch entire system one route at a time — asynchronously..."
   ]
  },
  {
   "cell_type": "code",
   "execution_count": 10,
   "id": "f54c5b99-570f-409a-a3c3-60d33daaf4c7",
   "metadata": {},
   "outputs": [],
   "source": [
    "API_KEY = '088886bd-cc48-4d7c-bd8a-498d353d7d13'\n",
    "\n",
    "import requests\n",
    "from time import time\n",
    "import datetime as dt\n",
    "import trio\n",
    "\n",
    "def async_grab_and_store(localhost, cwd):\n",
    "    start = time()\n",
    "    SIRI_request_urlpaths = get_SIRI_request_urlpaths()\n",
    "    feeds = []\n",
    "\n",
    "    async def grabber(s,a_path,route_id):\n",
    "        try:\n",
    "            r = await s.get(path=a_path, retries=10)\n",
    "            feeds.append({route_id:r})\n",
    "        except Exception as e:\n",
    "            logging.error ('\\tCould not fetch feed for {}. (Increase max retries for Session.get()?)'.format(route_id) )\n",
    "\n",
    "    async def main(path_list):\n",
    "        from asks.sessions import Session\n",
    "\n",
    "        if localhost is True:\n",
    "            s = Session('http://bustime.mta.info', connections=5)\n",
    "        else:\n",
    "            s = Session('http://bustime.mta.info', connections=config.config['http_connections'])\n",
    "        async with trio.open_nursery() as n:\n",
    "            for path_bundle in path_list:\n",
    "                for route_id,path in path_bundle.items():\n",
    "                    n.start_soon(grabber, s, path, route_id )\n",
    "\n",
    "    trio.run(main, SIRI_request_urlpaths)\n",
    "\n",
    "    # dump to the various locations\n",
    "    timestamp = dt.datetime.now()\n",
    "    # DataLake(cwd).make_puddles(feeds, DatePointer(timestamp))\n",
    "    # DataStore(cwd).make_barrels(feeds, DatePointer(timestamp))\n",
    "\n",
    "    # report results to console\n",
    "    n_buses = num_buses(feeds)\n",
    "    end = time()\n",
    "    print('Grabbed {} route feeds containing {} buses in {:2f} seconds at {}.'.format(len(feeds),n_buses,(end - start), dt.datetime.now().strftime('%Y-%m-%d %H:%M:%S')))\n",
    "    return\n",
    "\n",
    "\n",
    "def get_OBA_routelist():\n",
    "    url = \"http://bustime.mta.info/api/where/routes-for-agency/MTA%20NYCT.json?key=\" + API_KEY\n",
    "    response = requests.get(url, timeout=30)\n",
    "    routes = response.json()\n",
    "    return routes\n",
    "\n",
    "\n",
    "def get_SIRI_request_urlpaths():\n",
    "    SIRI_request_urlpaths = []\n",
    "    routes=get_OBA_routelist()\n",
    "    for route in routes['data']['list']:\n",
    "        SIRI_request_urlpaths.append({route['id']:\"/api/siri/vehicle-monitoring.json?key={}&VehicleMonitoringDetailLevel=calls&LineRef={}\".format(API_KEY, route['id'])})\n",
    "    return SIRI_request_urlpaths\n",
    "\n",
    "\n",
    "def num_buses(feeds):\n",
    "    num_buses=0\n",
    "    for route_report in feeds:\n",
    "        for route_id,route_data in route_report.items():\n",
    "            try:\n",
    "                route_data = route_data.json()\n",
    "                for monitored_vehicle_journey in route_data['Siri']['ServiceDelivery']['VehicleMonitoringDelivery'][0]['VehicleActivity']:\n",
    "                    num_buses = num_buses + 1\n",
    "            except: # no vehicle activity?\n",
    "                pass\n",
    "    return num_buses\n"
   ]
  },
  {
   "cell_type": "code",
   "execution_count": 11,
   "id": "818cdb44-4ae2-44e5-9e16-684e5e3b1d90",
   "metadata": {},
   "outputs": [
    {
     "name": "stdout",
     "output_type": "stream",
     "text": [
      "Grabbed 241 route feeds containing 579 buses in 4.958737 seconds at 2021-08-18 23:56:17.\n"
     ]
    }
   ],
   "source": [
    "localhost = True\n",
    "cwd = '.'\n",
    "async_grab_and_store(localhost, cwd)"
   ]
  },
  {
   "cell_type": "code",
   "execution_count": null,
   "id": "451b69cf-be78-4064-b10b-f89d5966f691",
   "metadata": {},
   "outputs": [],
   "source": []
  }
 ],
 "metadata": {
  "kernelspec": {
   "display_name": "Python [conda env:geo]",
   "language": "python",
   "name": "conda-env-geo-py"
  },
  "language_info": {
   "codemirror_mode": {
    "name": "ipython",
    "version": 3
   },
   "file_extension": ".py",
   "mimetype": "text/x-python",
   "name": "python",
   "nbconvert_exporter": "python",
   "pygments_lexer": "ipython3",
   "version": "3.9.4"
  }
 },
 "nbformat": 4,
 "nbformat_minor": 5
}
