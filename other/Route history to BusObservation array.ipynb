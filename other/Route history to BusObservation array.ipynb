{
 "cells": [
  {
   "cell_type": "code",
   "execution_count": 1,
   "id": "6f30cbf1-9aa1-4d75-afb5-6b47a7ed8022",
   "metadata": {},
   "outputs": [],
   "source": [
    "# NYCbuswatcher fetch all of the shipments for a particular route and load them in as BusObservations"
   ]
  },
  {
   "cell_type": "code",
   "execution_count": 2,
   "id": "e821703d-cab3-420f-829d-e5e817915cb9",
   "metadata": {},
   "outputs": [
    {
     "name": "stdout",
     "output_type": "stream",
     "text": [
      "Requirement already satisfied: requests in /opt/bin/miniconda3/envs/geo/lib/python3.7/site-packages (2.25.1)\n",
      "Requirement already satisfied: certifi>=2017.4.17 in /opt/bin/miniconda3/envs/geo/lib/python3.7/site-packages (from requests) (2020.12.5)\n",
      "Requirement already satisfied: chardet<5,>=3.0.2 in /opt/bin/miniconda3/envs/geo/lib/python3.7/site-packages (from requests) (4.0.0)\n",
      "Requirement already satisfied: idna<3,>=2.5 in /opt/bin/miniconda3/envs/geo/lib/python3.7/site-packages (from requests) (2.10)\n",
      "Requirement already satisfied: urllib3<1.27,>=1.21.1 in /opt/bin/miniconda3/envs/geo/lib/python3.7/site-packages (from requests) (1.26.5)\n"
     ]
    }
   ],
   "source": [
    "!pip install requests\n",
    "import requests"
   ]
  },
  {
   "cell_type": "code",
   "execution_count": 3,
   "id": "af07b533-8b56-4519-a95b-f78dddb5fbc9",
   "metadata": {},
   "outputs": [],
   "source": [
    "import dateutil.parser\n",
    "import json\n",
    "\n",
    "class BusObservation():\n",
    "\n",
    "    def to_serial(self):\n",
    "        \n",
    "        def serialize(obj):\n",
    "            # Recursively walk object's hierarchy.\n",
    "            \n",
    "            if isinstance(obj, (bool, int, float)):\n",
    "              return obj\n",
    "            \n",
    "            elif isinstance(obj, dict):\n",
    "              obj = obj.copy()\n",
    "              for key in obj:\n",
    "                obj[key] = serialize(obj[key])\n",
    "              return obj\n",
    "            \n",
    "            elif isinstance(obj, list):\n",
    "              return [serialize(item) for item in obj]\n",
    "            \n",
    "            elif isinstance(obj, tuple):\n",
    "              return tuple(serialize([item for item in obj]))\n",
    "            \n",
    "            elif hasattr(obj, '__dict__'):\n",
    "              return serialize(obj.__dict__)\n",
    "            \n",
    "            else:\n",
    "              # return repr(obj) # Don't know how to handle, convert to string\n",
    "                return str(obj) # avoids single quotes around strings\n",
    "\n",
    "        # return json.dumps(serialize(self))\n",
    "        return serialize(self)\n",
    "\n",
    "    def __repr__(self):\n",
    "        output = ''\n",
    "        # output = None\n",
    "        for var, val in vars(self).items():\n",
    "            if var == '_sa_instance_state':\n",
    "                continue\n",
    "            else:\n",
    "                output = output + ('{} {} \\n'.format(var,val))\n",
    "        return output\n",
    "\n",
    "    def __init__(self,route, shipment_bus):\n",
    "        self.route = route\n",
    "        for key in shipment_bus:\n",
    "            setattr(self, key, shipment_bus[key])"
   ]
  },
  {
   "cell_type": "code",
   "execution_count": 4,
   "id": "84b94488-34a4-46e3-a01b-4f1ae511881d",
   "metadata": {},
   "outputs": [],
   "source": [
    "route='M15'"
   ]
  },
  {
   "cell_type": "code",
   "execution_count": 5,
   "id": "d0756c03-d3c4-4d6b-99a1-28e128bd1f54",
   "metadata": {},
   "outputs": [],
   "source": [
    "base_url = 'http://api.buswatcher.org/api/v2/nyc'\n",
    "shipments_for_route_url = '/{}'.format(route)"
   ]
  },
  {
   "cell_type": "code",
   "execution_count": 6,
   "id": "605656a8-64b6-497c-88dd-9553c8e300e5",
   "metadata": {},
   "outputs": [],
   "source": [
    "route_shipments_list = requests.get(base_url+shipments_for_route_url).json()"
   ]
  },
  {
   "cell_type": "markdown",
   "id": "5fd35240-d549-4f6b-b0a2-c6f9fbf4eb1d",
   "metadata": {},
   "source": [
    "### load all Shipments for {route} into an array of BusObservations"
   ]
  },
  {
   "cell_type": "code",
   "execution_count": 7,
   "id": "34909bea-7e4a-435a-86f4-8418ba7f22d5",
   "metadata": {},
   "outputs": [],
   "source": [
    "buses = []"
   ]
  },
  {
   "cell_type": "code",
   "execution_count": 8,
   "id": "8699986a-6ca8-4602-8fdc-be2c3b36ec58",
   "metadata": {},
   "outputs": [],
   "source": [
    "for s in route_shipments_list['shipments']:\n",
    "    shipment = requests.get(s['url']).json()\n",
    "    for bus_dict in shipment['buses']:\n",
    "        buses.append(BusObservation(route, bus_dict))"
   ]
  },
  {
   "cell_type": "code",
   "execution_count": 9,
   "id": "931819d3-1e87-42ad-9942-21b5af7f6e12",
   "metadata": {},
   "outputs": [
    {
     "name": "stdout",
     "output_type": "stream",
     "text": [
      "loaded 20192 buses from 39 shipments for route M15 into list: \"buses\"\n"
     ]
    }
   ],
   "source": [
    "print('loaded {} buses from {} shipments for route {} into list: \"buses\"'.format(len(buses),\n",
    "                                                              len(route_shipments_list['shipments']),\n",
    "                                                              route\n",
    "                                                             ))"
   ]
  },
  {
   "cell_type": "code",
   "execution_count": 11,
   "id": "51043628-5c3b-4cc8-9ec0-ad02da5ab2ca",
   "metadata": {},
   "outputs": [
    {
     "name": "stdout",
     "output_type": "stream",
     "text": [
      "route M15 \n",
      "timestamp 2021-06-19 09:22:30-04:00 \n",
      "route_long MTA NYCT_M15 \n",
      "direction 1 \n",
      "service_date 2021-06-19 \n",
      "trip_id MTA NYCT_OH_B1-Saturday-053600_M15_218 \n",
      "gtfs_shape_id MTA_M150007 \n",
      "route_short M15 \n",
      "agency MTA NYCT \n",
      "origin_id MTA_401732 \n",
      "destination_name SOUTH FERRY via 2 AV \n",
      "next_stop_id MTA_401761 \n",
      "next_stop_eta 2021-06-19T09:22:44.289-04:00 \n",
      "next_stop_d_along_route 4815.91 \n",
      "next_stop_d 2.1 \n",
      "lat 40.765984 \n",
      "lon -73.960409 \n",
      "bearing 234.03671 \n",
      "progress_rate normalProgress \n",
      "vehicle_id MTA NYCT_5826 \n",
      "gtfs_block_id MTA NYCT_OH_B1-Saturday_A_OH_13560_M15-206 \n",
      "\n"
     ]
    }
   ],
   "source": [
    "# show a random bus\n",
    "import random\n",
    "print(random.choice(buses))"
   ]
  },
  {
   "cell_type": "code",
   "execution_count": null,
   "id": "27323a67-f116-4bef-b3c1-dc87731ecac6",
   "metadata": {},
   "outputs": [],
   "source": []
  }
 ],
 "metadata": {
  "kernelspec": {
   "display_name": "Python [conda env:geo]",
   "language": "python",
   "name": "conda-env-geo-py"
  },
  "language_info": {
   "codemirror_mode": {
    "name": "ipython",
    "version": 3
   },
   "file_extension": ".py",
   "mimetype": "text/x-python",
   "name": "python",
   "nbconvert_exporter": "python",
   "pygments_lexer": "ipython3",
   "version": "3.7.7"
  }
 },
 "nbformat": 4,
 "nbformat_minor": 5
}
