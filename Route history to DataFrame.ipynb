{
 "cells": [
  {
   "cell_type": "code",
   "execution_count": 23,
   "id": "84b94488-34a4-46e3-a01b-4f1ae511881d",
   "metadata": {},
   "outputs": [],
   "source": [
    "route='M15'"
   ]
  },
  {
   "cell_type": "code",
   "execution_count": 24,
   "id": "6f30cbf1-9aa1-4d75-afb5-6b47a7ed8022",
   "metadata": {},
   "outputs": [],
   "source": [
    "# NYCbuswatcher fetch all of the shipments for a particular route and load them in as BusObservations"
   ]
  },
  {
   "cell_type": "code",
   "execution_count": 25,
   "id": "e821703d-cab3-420f-829d-e5e817915cb9",
   "metadata": {},
   "outputs": [
    {
     "name": "stdout",
     "output_type": "stream",
     "text": [
      "Requirement already satisfied: requests in /opt/bin/miniconda3/envs/geo/lib/python3.7/site-packages (2.25.1)\n",
      "Requirement already satisfied: pandas in /opt/bin/miniconda3/envs/geo/lib/python3.7/site-packages (1.2.4)\n",
      "Requirement already satisfied: certifi>=2017.4.17 in /opt/bin/miniconda3/envs/geo/lib/python3.7/site-packages (from requests) (2020.12.5)\n",
      "Requirement already satisfied: chardet<5,>=3.0.2 in /opt/bin/miniconda3/envs/geo/lib/python3.7/site-packages (from requests) (4.0.0)\n",
      "Requirement already satisfied: urllib3<1.27,>=1.21.1 in /opt/bin/miniconda3/envs/geo/lib/python3.7/site-packages (from requests) (1.26.5)\n",
      "Requirement already satisfied: idna<3,>=2.5 in /opt/bin/miniconda3/envs/geo/lib/python3.7/site-packages (from requests) (2.10)\n",
      "Requirement already satisfied: python-dateutil>=2.7.3 in /opt/bin/miniconda3/envs/geo/lib/python3.7/site-packages (from pandas) (2.8.1)\n",
      "Requirement already satisfied: pytz>=2017.3 in /opt/bin/miniconda3/envs/geo/lib/python3.7/site-packages (from pandas) (2021.1)\n",
      "Requirement already satisfied: numpy>=1.16.5 in /opt/bin/miniconda3/envs/geo/lib/python3.7/site-packages (from pandas) (1.20.2)\n",
      "Requirement already satisfied: six>=1.5 in /opt/bin/miniconda3/envs/geo/lib/python3.7/site-packages (from python-dateutil>=2.7.3->pandas) (1.15.0)\n"
     ]
    }
   ],
   "source": [
    "!pip install requests pandas\n",
    "import requests\n",
    "import pandas as pd"
   ]
  },
  {
   "cell_type": "code",
   "execution_count": 26,
   "id": "d0756c03-d3c4-4d6b-99a1-28e128bd1f54",
   "metadata": {},
   "outputs": [],
   "source": [
    "base_url = 'http://api.buswatcher.org/api/v2/nyc'\n",
    "shipments_for_route_url = '/{}'.format(route)"
   ]
  },
  {
   "cell_type": "code",
   "execution_count": 27,
   "id": "8d8e5f2a-f8c9-43e6-8e03-47aef4485271",
   "metadata": {},
   "outputs": [],
   "source": [
    "route_shipments_list = requests.get(base_url+shipments_for_route_url).json()"
   ]
  },
  {
   "cell_type": "markdown",
   "id": "5b598180-37f1-45df-a8a7-7d5e621450f9",
   "metadata": {},
   "source": [
    "### load all Shipments for {route} into a pandas dataframe"
   ]
  },
  {
   "cell_type": "code",
   "execution_count": 28,
   "id": "56f4f497-ea82-4768-b077-95e38bbf4bfe",
   "metadata": {},
   "outputs": [],
   "source": [
    "rows=[]"
   ]
  },
  {
   "cell_type": "code",
   "execution_count": 29,
   "id": "591ecb2b-5c8b-428a-9c15-9522d858eda0",
   "metadata": {},
   "outputs": [],
   "source": [
    "for s in route_shipments_list['shipments']:\n",
    "    shipment = requests.get(s['url']).json()\n",
    "    for bus_dict in shipment['buses']:\n",
    "        rows.append(bus_dict)"
   ]
  },
  {
   "cell_type": "code",
   "execution_count": 30,
   "id": "113f4ac7-7069-48e5-8468-d6d643596187",
   "metadata": {},
   "outputs": [],
   "source": [
    "df = pd.DataFrame.from_dict(rows, orient='columns')\n",
    "df['passenger_count'] = df['passenger_count'].fillna(0)"
   ]
  },
  {
   "cell_type": "code",
   "execution_count": 31,
   "id": "175e7a23-2c77-4bf3-86e9-4d0a1259ded7",
   "metadata": {},
   "outputs": [
    {
     "name": "stdout",
     "output_type": "stream",
     "text": [
      "loaded 20192 buses from 39 shipments for route M15 into DataFrame: \"df\"\n"
     ]
    }
   ],
   "source": [
    "print('loaded {} buses from {} shipments for route {} into DataFrame: \"df\"'.format(len(rows),\n",
    "                                                              len(route_shipments_list['shipments']),\n",
    "                                                              route\n",
    "                                                             ))"
   ]
  },
  {
   "cell_type": "markdown",
   "id": "2bfde9cf-4cba-4665-904e-d6eb558670ae",
   "metadata": {},
   "source": [
    "##### prevent table cell wrapping"
   ]
  },
  {
   "cell_type": "code",
   "execution_count": 33,
   "id": "5fcb634e-4b9e-4031-8327-e47ea51a2bb3",
   "metadata": {},
   "outputs": [
    {
     "data": {
      "text/html": [
       "<style>\n",
       ".dataframe td {\n",
       "    white-space: nowrap;\n",
       "}\n",
       "</style>\n"
      ],
      "text/plain": [
       "<IPython.core.display.HTML object>"
      ]
     },
     "metadata": {},
     "output_type": "display_data"
    }
   ],
   "source": [
    "%%html\n",
    "<style>\n",
    ".dataframe td {\n",
    "    white-space: nowrap;\n",
    "}\n",
    "</style>"
   ]
  },
  {
   "cell_type": "code",
   "execution_count": 34,
   "id": "79db7e1e-7917-4a65-9816-896f11216698",
   "metadata": {},
   "outputs": [
    {
     "data": {
      "text/html": [
       "<div>\n",
       "<style scoped>\n",
       "    .dataframe tbody tr th:only-of-type {\n",
       "        vertical-align: middle;\n",
       "    }\n",
       "\n",
       "    .dataframe tbody tr th {\n",
       "        vertical-align: top;\n",
       "    }\n",
       "\n",
       "    .dataframe thead th {\n",
       "        text-align: right;\n",
       "    }\n",
       "</style>\n",
       "<table border=\"1\" class=\"dataframe\">\n",
       "  <thead>\n",
       "    <tr style=\"text-align: right;\">\n",
       "      <th></th>\n",
       "      <th>route</th>\n",
       "      <th>timestamp</th>\n",
       "      <th>route_long</th>\n",
       "      <th>direction</th>\n",
       "      <th>service_date</th>\n",
       "      <th>trip_id</th>\n",
       "      <th>gtfs_shape_id</th>\n",
       "      <th>route_short</th>\n",
       "      <th>agency</th>\n",
       "      <th>origin_id</th>\n",
       "      <th>...</th>\n",
       "      <th>next_stop_d</th>\n",
       "      <th>lat</th>\n",
       "      <th>lon</th>\n",
       "      <th>bearing</th>\n",
       "      <th>progress_rate</th>\n",
       "      <th>progress_status</th>\n",
       "      <th>vehicle_id</th>\n",
       "      <th>gtfs_block_id</th>\n",
       "      <th>next_stop_eta</th>\n",
       "      <th>passenger_count</th>\n",
       "    </tr>\n",
       "  </thead>\n",
       "  <tbody>\n",
       "    <tr>\n",
       "      <th>0</th>\n",
       "      <td>M15</td>\n",
       "      <td>2021-06-17 21:58:34-04:00</td>\n",
       "      <td>MTA NYCT_M15</td>\n",
       "      <td>1</td>\n",
       "      <td>2021-06-17</td>\n",
       "      <td>MTA NYCT_OH_B1-Weekday-SDon-129200_M15_246</td>\n",
       "      <td>MTA_M150007</td>\n",
       "      <td>M15</td>\n",
       "      <td>MTA NYCT</td>\n",
       "      <td>MTA_401732</td>\n",
       "      <td>...</td>\n",
       "      <td>0.00</td>\n",
       "      <td>40.803182</td>\n",
       "      <td>-73.932486</td>\n",
       "      <td>157.238040</td>\n",
       "      <td>noProgress</td>\n",
       "      <td>layover</td>\n",
       "      <td>MTA NYCT_5901</td>\n",
       "      <td>MTA NYCT_OH_B1-Weekday-SDon_E_OH_23100_M15-217</td>\n",
       "      <td>NaN</td>\n",
       "      <td>0.0</td>\n",
       "    </tr>\n",
       "    <tr>\n",
       "      <th>1</th>\n",
       "      <td>M15</td>\n",
       "      <td>2021-06-17 21:58:43-04:00</td>\n",
       "      <td>MTA NYCT_M15</td>\n",
       "      <td>0</td>\n",
       "      <td>2021-06-17</td>\n",
       "      <td>MTA NYCT_OH_B1-Weekday-SDon-127900_M15_250</td>\n",
       "      <td>MTA_M150004</td>\n",
       "      <td>M15</td>\n",
       "      <td>MTA NYCT</td>\n",
       "      <td>MTA_803019</td>\n",
       "      <td>...</td>\n",
       "      <td>9.93</td>\n",
       "      <td>40.740499</td>\n",
       "      <td>-73.975897</td>\n",
       "      <td>53.660603</td>\n",
       "      <td>normalProgress</td>\n",
       "      <td>NaN</td>\n",
       "      <td>MTA NYCT_6035</td>\n",
       "      <td>MTA NYCT_OH_B1-Weekday-SDon_E_OH_21420_M15-214</td>\n",
       "      <td>2021-06-17T21:58:52.354-04:00</td>\n",
       "      <td>10.0</td>\n",
       "    </tr>\n",
       "    <tr>\n",
       "      <th>2</th>\n",
       "      <td>M15</td>\n",
       "      <td>2021-06-17 21:58:38-04:00</td>\n",
       "      <td>MTA NYCT_M15</td>\n",
       "      <td>1</td>\n",
       "      <td>2021-06-17</td>\n",
       "      <td>MTA NYCT_OH_B1-Weekday-SDon-121600_M15_256</td>\n",
       "      <td>MTA_M150007</td>\n",
       "      <td>M15</td>\n",
       "      <td>MTA NYCT</td>\n",
       "      <td>MTA_401732</td>\n",
       "      <td>...</td>\n",
       "      <td>NaN</td>\n",
       "      <td>40.701549</td>\n",
       "      <td>-74.012199</td>\n",
       "      <td>196.699250</td>\n",
       "      <td>noProgress</td>\n",
       "      <td>layover</td>\n",
       "      <td>MTA NYCT_5910</td>\n",
       "      <td>MTA NYCT_OH_B1-Weekday-SDon_E_OH_32700_M15-213</td>\n",
       "      <td>NaN</td>\n",
       "      <td>0.0</td>\n",
       "    </tr>\n",
       "    <tr>\n",
       "      <th>3</th>\n",
       "      <td>M15</td>\n",
       "      <td>2021-06-17 21:58:22-04:00</td>\n",
       "      <td>MTA NYCT_M15</td>\n",
       "      <td>0</td>\n",
       "      <td>2021-06-17</td>\n",
       "      <td>MTA NYCT_OH_B1-Weekday-SDon-124500_M15_239</td>\n",
       "      <td>MTA_M150005</td>\n",
       "      <td>M15</td>\n",
       "      <td>MTA NYCT</td>\n",
       "      <td>MTA_405359</td>\n",
       "      <td>...</td>\n",
       "      <td>12.75</td>\n",
       "      <td>40.803046</td>\n",
       "      <td>-73.932167</td>\n",
       "      <td>157.094220</td>\n",
       "      <td>noProgress</td>\n",
       "      <td>layover</td>\n",
       "      <td>MTA NYCT_5886</td>\n",
       "      <td>MTA NYCT_OH_B1-Weekday-SDon_E_OH_28620_M15-228</td>\n",
       "      <td>2021-06-17T21:58:52.354-04:00</td>\n",
       "      <td>0.0</td>\n",
       "    </tr>\n",
       "    <tr>\n",
       "      <th>4</th>\n",
       "      <td>M15</td>\n",
       "      <td>2021-06-17 21:58:41-04:00</td>\n",
       "      <td>MTA NYCT_M15</td>\n",
       "      <td>1</td>\n",
       "      <td>2021-06-17</td>\n",
       "      <td>MTA NYCT_OH_B1-Weekday-SDon-122600_M15_245</td>\n",
       "      <td>MTA_M150007</td>\n",
       "      <td>M15</td>\n",
       "      <td>MTA NYCT</td>\n",
       "      <td>MTA_401732</td>\n",
       "      <td>...</td>\n",
       "      <td>24.10</td>\n",
       "      <td>40.701608</td>\n",
       "      <td>-74.011920</td>\n",
       "      <td>191.821490</td>\n",
       "      <td>noProgress</td>\n",
       "      <td>layover</td>\n",
       "      <td>MTA NYCT_5912</td>\n",
       "      <td>MTA NYCT_OH_B1-Weekday-SDon_E_OH_24480_M15-219</td>\n",
       "      <td>2021-06-17T21:58:52.354-04:00</td>\n",
       "      <td>0.0</td>\n",
       "    </tr>\n",
       "  </tbody>\n",
       "</table>\n",
       "<p>5 rows × 23 columns</p>\n",
       "</div>"
      ],
      "text/plain": [
       "  route                  timestamp    route_long direction service_date  \\\n",
       "0   M15  2021-06-17 21:58:34-04:00  MTA NYCT_M15         1   2021-06-17   \n",
       "1   M15  2021-06-17 21:58:43-04:00  MTA NYCT_M15         0   2021-06-17   \n",
       "2   M15  2021-06-17 21:58:38-04:00  MTA NYCT_M15         1   2021-06-17   \n",
       "3   M15  2021-06-17 21:58:22-04:00  MTA NYCT_M15         0   2021-06-17   \n",
       "4   M15  2021-06-17 21:58:41-04:00  MTA NYCT_M15         1   2021-06-17   \n",
       "\n",
       "                                      trip_id gtfs_shape_id route_short  \\\n",
       "0  MTA NYCT_OH_B1-Weekday-SDon-129200_M15_246   MTA_M150007         M15   \n",
       "1  MTA NYCT_OH_B1-Weekday-SDon-127900_M15_250   MTA_M150004         M15   \n",
       "2  MTA NYCT_OH_B1-Weekday-SDon-121600_M15_256   MTA_M150007         M15   \n",
       "3  MTA NYCT_OH_B1-Weekday-SDon-124500_M15_239   MTA_M150005         M15   \n",
       "4  MTA NYCT_OH_B1-Weekday-SDon-122600_M15_245   MTA_M150007         M15   \n",
       "\n",
       "     agency   origin_id  ... next_stop_d        lat        lon     bearing  \\\n",
       "0  MTA NYCT  MTA_401732  ...        0.00  40.803182 -73.932486  157.238040   \n",
       "1  MTA NYCT  MTA_803019  ...        9.93  40.740499 -73.975897   53.660603   \n",
       "2  MTA NYCT  MTA_401732  ...         NaN  40.701549 -74.012199  196.699250   \n",
       "3  MTA NYCT  MTA_405359  ...       12.75  40.803046 -73.932167  157.094220   \n",
       "4  MTA NYCT  MTA_401732  ...       24.10  40.701608 -74.011920  191.821490   \n",
       "\n",
       "    progress_rate  progress_status     vehicle_id  \\\n",
       "0      noProgress          layover  MTA NYCT_5901   \n",
       "1  normalProgress              NaN  MTA NYCT_6035   \n",
       "2      noProgress          layover  MTA NYCT_5910   \n",
       "3      noProgress          layover  MTA NYCT_5886   \n",
       "4      noProgress          layover  MTA NYCT_5912   \n",
       "\n",
       "                                    gtfs_block_id  \\\n",
       "0  MTA NYCT_OH_B1-Weekday-SDon_E_OH_23100_M15-217   \n",
       "1  MTA NYCT_OH_B1-Weekday-SDon_E_OH_21420_M15-214   \n",
       "2  MTA NYCT_OH_B1-Weekday-SDon_E_OH_32700_M15-213   \n",
       "3  MTA NYCT_OH_B1-Weekday-SDon_E_OH_28620_M15-228   \n",
       "4  MTA NYCT_OH_B1-Weekday-SDon_E_OH_24480_M15-219   \n",
       "\n",
       "                   next_stop_eta passenger_count  \n",
       "0                            NaN             0.0  \n",
       "1  2021-06-17T21:58:52.354-04:00            10.0  \n",
       "2                            NaN             0.0  \n",
       "3  2021-06-17T21:58:52.354-04:00             0.0  \n",
       "4  2021-06-17T21:58:52.354-04:00             0.0  \n",
       "\n",
       "[5 rows x 23 columns]"
      ]
     },
     "execution_count": 34,
     "metadata": {},
     "output_type": "execute_result"
    }
   ],
   "source": [
    "df.head()"
   ]
  },
  {
   "cell_type": "code",
   "execution_count": null,
   "id": "7dfb90a4-e607-4085-a610-5e2fdf11830e",
   "metadata": {},
   "outputs": [],
   "source": []
  }
 ],
 "metadata": {
  "kernelspec": {
   "display_name": "Python [conda env:geo]",
   "language": "python",
   "name": "conda-env-geo-py"
  },
  "language_info": {
   "codemirror_mode": {
    "name": "ipython",
    "version": 3
   },
   "file_extension": ".py",
   "mimetype": "text/x-python",
   "name": "python",
   "nbconvert_exporter": "python",
   "pygments_lexer": "ipython3",
   "version": "3.7.7"
  }
 },
 "nbformat": 4,
 "nbformat_minor": 5
}
